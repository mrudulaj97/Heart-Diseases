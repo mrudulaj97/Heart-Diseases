{
 "cells": [
  {
   "cell_type": "code",
   "execution_count": 38,
   "metadata": {},
   "outputs": [],
   "source": [
    "import pandas as pd\n",
    "import matplotlib.pyplot as plt\n",
    "from sklearn.model_selection import train_test_split\n",
    "from sklearn.preprocessing import StandardScaler as ss\n",
    "from sklearn.svm import SVC\n",
    "from sklearn.metrics import confusion_matrix\n",
    "from sklearn.linear_model import LogisticRegression\n",
    "from sklearn.metrics import plot_confusion_matrix\n",
    "from sklearn.metrics import classification_report\n",
    "from sklearn.ensemble import RandomForestClassifier\n",
    "from sklearn.tree import DecisionTreeClassifier\n",
    "from sklearn.linear_model import LogisticRegression\n",
    "import seaborn as sns"
   ]
  },
  {
   "cell_type": "code",
   "execution_count": 39,
   "metadata": {},
   "outputs": [],
   "source": [
    "# import warnings filter\n",
    "from warnings import simplefilter"
   ]
  },
  {
   "cell_type": "code",
   "execution_count": 40,
   "metadata": {},
   "outputs": [],
   "source": [
    "# ignore all future warnings\n",
    "simplefilter(action='ignore', category = FutureWarning)"
   ]
  },
  {
   "cell_type": "code",
   "execution_count": 41,
   "metadata": {},
   "outputs": [],
   "source": [
    "# read the dataset file\n",
    "df = pd.read_csv('data.csv', header = None)\n",
    "\n",
    "df.columns = ['age', 'sex', 'cp', 'trestbps', 'chol',\n",
    "              'fbs', 'restecg', 'thalach', 'exang', \n",
    "              'oldpeak', 'slope', 'ca', 'thal', 'target']"
   ]
  },
  {
   "cell_type": "code",
   "execution_count": 42,
   "metadata": {},
   "outputs": [
    {
     "data": {
      "text/html": [
       "<div>\n",
       "<style scoped>\n",
       "    .dataframe tbody tr th:only-of-type {\n",
       "        vertical-align: middle;\n",
       "    }\n",
       "\n",
       "    .dataframe tbody tr th {\n",
       "        vertical-align: top;\n",
       "    }\n",
       "\n",
       "    .dataframe thead th {\n",
       "        text-align: right;\n",
       "    }\n",
       "</style>\n",
       "<table border=\"1\" class=\"dataframe\">\n",
       "  <thead>\n",
       "    <tr style=\"text-align: right;\">\n",
       "      <th></th>\n",
       "      <th>age</th>\n",
       "      <th>sex</th>\n",
       "      <th>cp</th>\n",
       "      <th>trestbps</th>\n",
       "      <th>chol</th>\n",
       "      <th>fbs</th>\n",
       "      <th>restecg</th>\n",
       "      <th>thalach</th>\n",
       "      <th>exang</th>\n",
       "      <th>oldpeak</th>\n",
       "      <th>slope</th>\n",
       "      <th>ca</th>\n",
       "      <th>thal</th>\n",
       "      <th>target</th>\n",
       "    </tr>\n",
       "  </thead>\n",
       "  <tbody>\n",
       "    <tr>\n",
       "      <th>0</th>\n",
       "      <td>63</td>\n",
       "      <td>1</td>\n",
       "      <td>1</td>\n",
       "      <td>145</td>\n",
       "      <td>233</td>\n",
       "      <td>1</td>\n",
       "      <td>2</td>\n",
       "      <td>150</td>\n",
       "      <td>0</td>\n",
       "      <td>2.3</td>\n",
       "      <td>3</td>\n",
       "      <td>0.0</td>\n",
       "      <td>6.0</td>\n",
       "      <td>0</td>\n",
       "    </tr>\n",
       "    <tr>\n",
       "      <th>1</th>\n",
       "      <td>67</td>\n",
       "      <td>1</td>\n",
       "      <td>4</td>\n",
       "      <td>160</td>\n",
       "      <td>286</td>\n",
       "      <td>0</td>\n",
       "      <td>2</td>\n",
       "      <td>108</td>\n",
       "      <td>1</td>\n",
       "      <td>1.5</td>\n",
       "      <td>2</td>\n",
       "      <td>3.0</td>\n",
       "      <td>3.0</td>\n",
       "      <td>2</td>\n",
       "    </tr>\n",
       "    <tr>\n",
       "      <th>2</th>\n",
       "      <td>67</td>\n",
       "      <td>1</td>\n",
       "      <td>4</td>\n",
       "      <td>120</td>\n",
       "      <td>229</td>\n",
       "      <td>0</td>\n",
       "      <td>2</td>\n",
       "      <td>129</td>\n",
       "      <td>1</td>\n",
       "      <td>2.6</td>\n",
       "      <td>2</td>\n",
       "      <td>2.0</td>\n",
       "      <td>7.0</td>\n",
       "      <td>1</td>\n",
       "    </tr>\n",
       "    <tr>\n",
       "      <th>3</th>\n",
       "      <td>37</td>\n",
       "      <td>1</td>\n",
       "      <td>3</td>\n",
       "      <td>130</td>\n",
       "      <td>250</td>\n",
       "      <td>0</td>\n",
       "      <td>0</td>\n",
       "      <td>187</td>\n",
       "      <td>0</td>\n",
       "      <td>3.5</td>\n",
       "      <td>3</td>\n",
       "      <td>0.0</td>\n",
       "      <td>3.0</td>\n",
       "      <td>0</td>\n",
       "    </tr>\n",
       "    <tr>\n",
       "      <th>4</th>\n",
       "      <td>41</td>\n",
       "      <td>0</td>\n",
       "      <td>2</td>\n",
       "      <td>130</td>\n",
       "      <td>204</td>\n",
       "      <td>0</td>\n",
       "      <td>2</td>\n",
       "      <td>172</td>\n",
       "      <td>0</td>\n",
       "      <td>1.4</td>\n",
       "      <td>1</td>\n",
       "      <td>0.0</td>\n",
       "      <td>3.0</td>\n",
       "      <td>0</td>\n",
       "    </tr>\n",
       "  </tbody>\n",
       "</table>\n",
       "</div>"
      ],
      "text/plain": [
       "   age  sex  cp  trestbps  chol  fbs  restecg  thalach  exang  oldpeak  slope  \\\n",
       "0   63    1   1       145   233    1        2      150      0      2.3      3   \n",
       "1   67    1   4       160   286    0        2      108      1      1.5      2   \n",
       "2   67    1   4       120   229    0        2      129      1      2.6      2   \n",
       "3   37    1   3       130   250    0        0      187      0      3.5      3   \n",
       "4   41    0   2       130   204    0        2      172      0      1.4      1   \n",
       "\n",
       "    ca  thal  target  \n",
       "0  0.0   6.0       0  \n",
       "1  3.0   3.0       2  \n",
       "2  2.0   7.0       1  \n",
       "3  0.0   3.0       0  \n",
       "4  0.0   3.0       0  "
      ]
     },
     "execution_count": 42,
     "metadata": {},
     "output_type": "execute_result"
    }
   ],
   "source": [
    "df.head()"
   ]
  },
  {
   "cell_type": "code",
   "execution_count": 43,
   "metadata": {},
   "outputs": [],
   "source": [
    "### 1 = male, 0 = female\n",
    "df.isnull().sum()\n",
    "\n",
    "df['target'] = df.target.map({0: 0, 1: 1, 2: 1, 3: 1, 4: 1})\n",
    "df['sex'] = df.sex.map({0: 'female', 1: 'male'})\n",
    "df['thal'] = df.thal.fillna(df.thal.mean())\n",
    "df['ca'] = df.ca.fillna(df.ca.mean())\n",
    "df['sex'] = df.sex.map({'female': 0, 'male': 1})"
   ]
  },
  {
   "cell_type": "code",
   "execution_count": 44,
   "metadata": {},
   "outputs": [
    {
     "data": {
      "image/png": "[encoded data removed]",
      "text/plain": [
       "<Figure size 397.305x360 with 1 Axes>"
      ]
     },
     "metadata": {
      "needs_background": "light"
     },
     "output_type": "display_data"
    }
   ],
   "source": [
    "################################## Plots\n",
    "\n",
    "# distribution of target vs age \n",
    "sns.set_context(\"paper\", font_scale = 1, rc = {\"font.size\": 10,\"axes.titlesize\": 10,\"axes.labelsize\": 10}) \n",
    "sns.catplot(kind = 'count', data = df, x = 'age', hue = 'target', order = df['age'].sort_values().unique())\n",
    "plt.title('Variation of Age for each target class')\n",
    "plt.show()"
   ]
  },
  {
   "cell_type": "code",
   "execution_count": 45,
   "metadata": {},
   "outputs": [
    {
     "data": {
      "image/png": "[encoded data removed]",
      "text/plain": [
       "<Figure size 397.305x360 with 1 Axes>"
      ]
     },
     "metadata": {
      "needs_background": "light"
     },
     "output_type": "display_data"
    }
   ],
   "source": [
    "# distribution of target vs sex \n",
    "sns.set_context(\"paper\", font_scale = 1, rc = {\"font.size\": 10,\"axes.titlesize\": 10,\"axes.labelsize\": 10}) \n",
    "sns.catplot(kind = 'count', data = df, x = 'sex', hue = 'target', order = df['sex'].sort_values().unique())\n",
    "plt.title('Variation gender for each target class')\n",
    "plt.show()"
   ]
  },
  {
   "cell_type": "code",
   "execution_count": 46,
   "metadata": {},
   "outputs": [
    {
     "data": {
      "image/png": "[encoded data removed]",
      "text/plain": [
       "<Figure size 397.305x360 with 1 Axes>"
      ]
     },
     "metadata": {
      "needs_background": "light"
     },
     "output_type": "display_data"
    }
   ],
   "source": [
    "# distribution of target vs BP \n",
    "sns.set_context(\"paper\", font_scale = 1, rc = {\"font.size\": 10,\"axes.titlesize\": 10,\"axes.labelsize\": 10}) \n",
    "sns.catplot(kind = 'count', data = df, x = 'trestbps', hue = 'target', order = df['trestbps'].sort_values().unique())\n",
    "plt.title('Variation of resting blood pressure (mmHg) for each target class')\n",
    "plt.show()"
   ]
  },
  {
   "cell_type": "code",
   "execution_count": 47,
   "metadata": {},
   "outputs": [
    {
     "data": {
      "image/png": "[encoded data removed]",
      "text/plain": [
       "<Figure size 397.305x360 with 1 Axes>"
      ]
     },
     "metadata": {
      "needs_background": "light"
     },
     "output_type": "display_data"
    }
   ],
   "source": [
    "# distribution of target vs Chol \n",
    "sns.set_context(\"paper\", font_scale = 1, rc = {\"font.size\": 10,\"axes.titlesize\": 10,\"axes.labelsize\": 10}) \n",
    "sns.catplot(kind = 'count', data = df, x = 'chol', hue = 'target', order = df['chol'].sort_values().unique())\n",
    "plt.title('Variation of Cholectrol for each target class')\n",
    "plt.show()"
   ]
  },
  {
   "cell_type": "code",
   "execution_count": 48,
   "metadata": {},
   "outputs": [
    {
     "data": {
      "image/png": "[encoded data removed]",
      "text/plain": [
       "<Figure size 397.305x360 with 1 Axes>"
      ]
     },
     "metadata": {
      "needs_background": "light"
     },
     "output_type": "display_data"
    }
   ],
   "source": [
    "# distribution of target vs thalach \n",
    "sns.set_context(\"paper\", font_scale = 1, rc = {\"font.size\": 10,\"axes.titlesize\": 10,\"axes.labelsize\": 10}) \n",
    "sns.catplot(kind = 'count', data = df, x = 'thalach', hue = 'target', order = df['thalach'].sort_values().unique())\n",
    "plt.title('Variation of maximum heart rate achieved for each target class')\n",
    "plt.show()"
   ]
  },
  {
   "cell_type": "code",
   "execution_count": 72,
   "metadata": {},
   "outputs": [],
   "source": [
    "#trestbps\n",
    "#chol\n",
    "#Thalach\n",
    "\n",
    "\n",
    "################################## data assignment\n",
    "X = df.iloc[:, :-1].values\n",
    "y = df.iloc[:, -1].values\n",
    "\n",
    "X_train, X_test, y_train, y_test = train_test_split(X, y, test_size = 0.2, random_state = 0)\n",
    "sc = ss()\n",
    "X_train = sc.fit_transform(X_train)\n",
    "X_test = sc.transform(X_test)"
   ]
  },
  {
   "cell_type": "code",
   "execution_count": 50,
   "metadata": {},
   "outputs": [
    {
     "data": {
      "text/plain": [
       "SVC(C=1.0, break_ties=False, cache_size=200, class_weight=None, coef0=0.0,\n",
       "    decision_function_shape='ovr', degree=3, gamma='scale', kernel='rbf',\n",
       "    max_iter=-1, probability=False, random_state=None, shrinking=True,\n",
       "    tol=0.001, verbose=False)"
      ]
     },
     "execution_count": 50,
     "metadata": {},
     "output_type": "execute_result"
    }
   ],
   "source": [
    "#########################################   SVM   #############################################################\n",
    "\n",
    "classifier = SVC(kernel = 'rbf')\n",
    "classifier.fit(X_train, y_train)\n"
   ]
  },
  {
   "cell_type": "code",
   "execution_count": 51,
   "metadata": {},
   "outputs": [],
   "source": [
    "# Predicting the Test set results\n",
    "y_pred = classifier.predict(X_test)"
   ]
  },
  {
   "cell_type": "code",
   "execution_count": 52,
   "metadata": {},
   "outputs": [],
   "source": [
    "cm_test = confusion_matrix(y_pred, y_test)\n"
   ]
  },
  {
   "cell_type": "code",
   "execution_count": 53,
   "metadata": {},
   "outputs": [
    {
     "name": "stdout",
     "output_type": "stream",
     "text": [
      "\n",
      "Accuracy for training set for svm = 0.9256198347107438\n",
      "Accuracy for test set for svm = 0.8032786885245902\n"
     ]
    }
   ],
   "source": [
    "y_pred_train = classifier.predict(X_train)\n",
    "cm_train = confusion_matrix(y_pred_train, y_train)\n",
    "\n",
    "print()\n",
    "print('Accuracy for training set for svm = {}'.format((cm_train[0][0] + cm_train[1][1])/len(y_train)))\n",
    "print('Accuracy for test set for svm = {}'.format((cm_test[0][0] + cm_test[1][1])/len(y_test)))"
   ]
  },
  {
   "cell_type": "code",
   "execution_count": 54,
   "metadata": {},
   "outputs": [
    {
     "data": {
      "image/png": "[encoded data removed]",
      "text/plain": [
       "<Figure size 432x288 with 2 Axes>"
      ]
     },
     "metadata": {
      "needs_background": "light"
     },
     "output_type": "display_data"
    }
   ],
   "source": [
    "plot_confusion_matrix(classifier, X_test, y_test)  \n",
    "plt.title(\"SVM confusion matrix\")\n",
    "plt.show()"
   ]
  },
  {
   "cell_type": "code",
   "execution_count": 55,
   "metadata": {},
   "outputs": [
    {
     "name": "stdout",
     "output_type": "stream",
     "text": [
      "Confusion matrix SVM: \n",
      " [[100  13]\n",
      " [  5 124]]\n"
     ]
    }
   ],
   "source": [
    "matrix = confusion_matrix(y_train,y_pred_train, labels=[1,0])\n",
    "print('Confusion matrix SVM: \\n',matrix)"
   ]
  },
  {
   "cell_type": "code",
   "execution_count": 56,
   "metadata": {},
   "outputs": [
    {
     "name": "stdout",
     "output_type": "stream",
     "text": [
      "Classification report SVM : \n",
      "               precision    recall  f1-score   support\n",
      "\n",
      "           1       0.95      0.88      0.92       113\n",
      "           0       0.91      0.96      0.93       129\n",
      "\n",
      "    accuracy                           0.93       242\n",
      "   macro avg       0.93      0.92      0.92       242\n",
      "weighted avg       0.93      0.93      0.93       242\n",
      "\n"
     ]
    }
   ],
   "source": [
    "# classification report for precision, recall f1-score and accuracy\n",
    "matrix = classification_report(y_train,y_pred_train,labels=[1,0])\n",
    "print('Classification report SVM : \\n',matrix)"
   ]
  },
  {
   "cell_type": "code",
   "execution_count": 57,
   "metadata": {},
   "outputs": [
    {
     "name": "stderr",
     "output_type": "stream",
     "text": [
      "/opt/anaconda3/lib/python3.7/site-packages/sklearn/linear_model/_logistic.py:940: ConvergenceWarning: lbfgs failed to converge (status=1):\n",
      "STOP: TOTAL NO. of ITERATIONS REACHED LIMIT.\n",
      "\n",
      "Increase the number of iterations (max_iter) or scale the data as shown in:\n",
      "    https://scikit-learn.org/stable/modules/preprocessing.html\n",
      "Please also refer to the documentation for alternative solver options:\n",
      "    https://scikit-learn.org/stable/modules/linear_model.html#logistic-regression\n",
      "  extra_warning_msg=_LOGISTIC_SOLVER_CONVERGENCE_MSG)\n"
     ]
    },
    {
     "data": {
      "text/plain": [
       "LogisticRegression(C=1.0, class_weight=None, dual=False, fit_intercept=True,\n",
       "                   intercept_scaling=1, l1_ratio=None, max_iter=100,\n",
       "                   multi_class='auto', n_jobs=None, penalty='l2',\n",
       "                   random_state=None, solver='lbfgs', tol=0.0001, verbose=0,\n",
       "                   warm_start=False)"
      ]
     },
     "execution_count": 57,
     "metadata": {},
     "output_type": "execute_result"
    }
   ],
   "source": [
    "#########################################   Logistic Regression  #############################################################\n",
    "\n",
    "X = df.iloc[:, :-1].values\n",
    "y = df.iloc[:, -1].values\n",
    "\n",
    "X_train, X_test, y_train, y_test = train_test_split(X, y, test_size = 0.2, random_state = 0)\n",
    "\n",
    "classifier = LogisticRegression()\n",
    "classifier.fit(X_train, y_train)"
   ]
  },
  {
   "cell_type": "code",
   "execution_count": 58,
   "metadata": {},
   "outputs": [],
   "source": [
    "# Predicting the Test set results\n",
    "y_pred = classifier.predict(X_test)"
   ]
  },
  {
   "cell_type": "code",
   "execution_count": 59,
   "metadata": {},
   "outputs": [
    {
     "name": "stdout",
     "output_type": "stream",
     "text": [
      "\n",
      "Accuracy for training set for Logistic Regression = 0.8636363636363636\n",
      "Accuracy for test set for Logistic Regression = 0.8032786885245902\n"
     ]
    }
   ],
   "source": [
    "from sklearn.metrics import confusion_matrix\n",
    "cm_test = confusion_matrix(y_pred, y_test)\n",
    "\n",
    "y_pred_train = classifier.predict(X_train)\n",
    "cm_train = confusion_matrix(y_pred_train, y_train)\n",
    "\n",
    "print()\n",
    "print('Accuracy for training set for Logistic Regression = {}'.format((cm_train[0][0] + cm_train[1][1])/len(y_train)))\n",
    "print('Accuracy for test set for Logistic Regression = {}'.format((cm_test[0][0] + cm_test[1][1])/len(y_test)))"
   ]
  },
  {
   "cell_type": "code",
   "execution_count": 60,
   "metadata": {},
   "outputs": [
    {
     "data": {
      "image/png": "[encoded data removed]",
      "text/plain": [
       "<Figure size 432x288 with 2 Axes>"
      ]
     },
     "metadata": {
      "needs_background": "light"
     },
     "output_type": "display_data"
    }
   ],
   "source": [
    "plot_confusion_matrix(classifier, X_test, y_test)  \n",
    "plt.title(\"Logistic Regression confusion matrix\")\n",
    "plt.show()"
   ]
  },
  {
   "cell_type": "code",
   "execution_count": 61,
   "metadata": {},
   "outputs": [
    {
     "name": "stdout",
     "output_type": "stream",
     "text": [
      "Confusion matrix Logistic Regression: \n",
      " [[ 91  22]\n",
      " [ 11 118]]\n"
     ]
    }
   ],
   "source": [
    "matrix = confusion_matrix(y_train,y_pred_train, labels=[1,0])\n",
    "print('Confusion matrix Logistic Regression: \\n',matrix)"
   ]
  },
  {
   "cell_type": "code",
   "execution_count": 62,
   "metadata": {},
   "outputs": [
    {
     "name": "stdout",
     "output_type": "stream",
     "text": [
      "Classification report Logistic Regression: \n",
      "               precision    recall  f1-score   support\n",
      "\n",
      "           1       0.89      0.81      0.85       113\n",
      "           0       0.84      0.91      0.88       129\n",
      "\n",
      "    accuracy                           0.86       242\n",
      "   macro avg       0.87      0.86      0.86       242\n",
      "weighted avg       0.87      0.86      0.86       242\n",
      "\n"
     ]
    }
   ],
   "source": [
    "# classification report for precision, recall f1-score and accuracy\n",
    "matrix = classification_report(y_train,y_pred_train,labels=[1,0])\n",
    "print('Classification report Logistic Regression: \\n',matrix)"
   ]
  },
  {
   "cell_type": "code",
   "execution_count": 63,
   "metadata": {},
   "outputs": [
    {
     "data": {
      "text/plain": [
       "DecisionTreeClassifier(ccp_alpha=0.0, class_weight=None, criterion='gini',\n",
       "                       max_depth=None, max_features=None, max_leaf_nodes=None,\n",
       "                       min_impurity_decrease=0.0, min_impurity_split=None,\n",
       "                       min_samples_leaf=1, min_samples_split=2,\n",
       "                       min_weight_fraction_leaf=0.0, presort='deprecated',\n",
       "                       random_state=None, splitter='best')"
      ]
     },
     "execution_count": 63,
     "metadata": {},
     "output_type": "execute_result"
    }
   ],
   "source": [
    "#########################################   Decision Tree  #############################################################\n",
    "\n",
    "X = df.iloc[:, :-1].values\n",
    "y = df.iloc[:, -1].values\n",
    "\n",
    "X_train, X_test, y_train, y_test = train_test_split(X, y, test_size = 0.2, random_state = 0)\n",
    "\n",
    "classifier = DecisionTreeClassifier()\n",
    "classifier.fit(X_train, y_train)"
   ]
  },
  {
   "cell_type": "code",
   "execution_count": 64,
   "metadata": {},
   "outputs": [
    {
     "name": "stdout",
     "output_type": "stream",
     "text": [
      "\n",
      "Accuracy for training set for Decision Tree = 1.0\n",
      "Accuracy for test set for Decision Tree = 0.7540983606557377\n"
     ]
    }
   ],
   "source": [
    "# Predicting the Test set results\n",
    "y_pred = classifier.predict(X_test)\n",
    "\n",
    "from sklearn.metrics import confusion_matrix\n",
    "cm_test = confusion_matrix(y_pred, y_test)\n",
    "\n",
    "y_pred_train = classifier.predict(X_train)\n",
    "cm_train = confusion_matrix(y_pred_train, y_train)\n",
    "\n",
    "print()\n",
    "print('Accuracy for training set for Decision Tree = {}'.format((cm_train[0][0] + cm_train[1][1])/len(y_train)))\n",
    "print('Accuracy for test set for Decision Tree = {}'.format((cm_test[0][0] + cm_test[1][1])/len(y_test)))"
   ]
  },
  {
   "cell_type": "code",
   "execution_count": 65,
   "metadata": {},
   "outputs": [
    {
     "data": {
      "image/png": "[encoded data removed]",
      "text/plain": [
       "<Figure size 432x288 with 2 Axes>"
      ]
     },
     "metadata": {
      "needs_background": "light"
     },
     "output_type": "display_data"
    }
   ],
   "source": [
    "plot_confusion_matrix(classifier, X_test, y_test)  \n",
    "plt.title(\"Decision Tree confusion matrix\")\n",
    "plt.show()"
   ]
  },
  {
   "cell_type": "code",
   "execution_count": 66,
   "metadata": {},
   "outputs": [
    {
     "name": "stdout",
     "output_type": "stream",
     "text": [
      "Confusion matrix Decision Tree: \n",
      " [[113   0]\n",
      " [  0 129]]\n"
     ]
    }
   ],
   "source": [
    "matrix = confusion_matrix(y_train,y_pred_train, labels=[1,0])\n",
    "print('Confusion matrix Decision Tree: \\n',matrix)"
   ]
  },
  {
   "cell_type": "code",
   "execution_count": 67,
   "metadata": {},
   "outputs": [
    {
     "name": "stdout",
     "output_type": "stream",
     "text": [
      "Classification report Decision Tree: \n",
      "               precision    recall  f1-score   support\n",
      "\n",
      "           1       1.00      1.00      1.00       113\n",
      "           0       1.00      1.00      1.00       129\n",
      "\n",
      "    accuracy                           1.00       242\n",
      "   macro avg       1.00      1.00      1.00       242\n",
      "weighted avg       1.00      1.00      1.00       242\n",
      "\n"
     ]
    }
   ],
   "source": [
    "# classification report for precision, recall f1-score and accuracy\n",
    "matrix = classification_report(y_train,y_pred_train,labels=[1,0])\n",
    "print('Classification report Decision Tree: \\n',matrix)"
   ]
  },
  {
   "cell_type": "code",
   "execution_count": 68,
   "metadata": {},
   "outputs": [
    {
     "data": {
      "text/plain": [
       "RandomForestClassifier(bootstrap=True, ccp_alpha=0.0, class_weight=None,\n",
       "                       criterion='gini', max_depth=None, max_features='auto',\n",
       "                       max_leaf_nodes=None, max_samples=None,\n",
       "                       min_impurity_decrease=0.0, min_impurity_split=None,\n",
       "                       min_samples_leaf=1, min_samples_split=2,\n",
       "                       min_weight_fraction_leaf=0.0, n_estimators=10,\n",
       "                       n_jobs=None, oob_score=False, random_state=None,\n",
       "                       verbose=0, warm_start=False)"
      ]
     },
     "execution_count": 68,
     "metadata": {},
     "output_type": "execute_result"
    }
   ],
   "source": [
    "#########################################  Random Forest  #############################################################\n",
    "X = df.iloc[:, :-1].values\n",
    "y = df.iloc[:, -1].values\n",
    "\n",
    "X_train, X_test, y_train, y_test = train_test_split(X, y, test_size = 0.2, random_state = 0)\n",
    "\n",
    "classifier = RandomForestClassifier(n_estimators = 10)\n",
    "classifier.fit(X_train, y_train)"
   ]
  },
  {
   "cell_type": "code",
   "execution_count": 69,
   "metadata": {},
   "outputs": [
    {
     "name": "stdout",
     "output_type": "stream",
     "text": [
      "\n",
      "Accuracy for training set for Random Forest = 0.9958677685950413\n",
      "Accuracy for test set for Random Forest = 0.8032786885245902\n"
     ]
    }
   ],
   "source": [
    "# Predicting the Test set results\n",
    "y_pred = classifier.predict(X_test)\n",
    "\n",
    "from sklearn.metrics import confusion_matrix\n",
    "cm_test = confusion_matrix(y_pred, y_test)\n",
    "\n",
    "y_pred_train = classifier.predict(X_train)\n",
    "cm_train = confusion_matrix(y_pred_train, y_train)\n",
    "\n",
    "print()\n",
    "print('Accuracy for training set for Random Forest = {}'.format((cm_train[0][0] + cm_train[1][1])/len(y_train)))\n",
    "print('Accuracy for test set for Random Forest = {}'.format((cm_test[0][0] + cm_test[1][1])/len(y_test)))\n"
   ]
  },
  {
   "cell_type": "code",
   "execution_count": 70,
   "metadata": {},
   "outputs": [
    {
     "data": {
      "image/png": "[encoded data removed]",
      "text/plain": [
       "<Figure size 432x288 with 2 Axes>"
      ]
     },
     "metadata": {
      "needs_background": "light"
     },
     "output_type": "display_data"
    }
   ],
   "source": [
    "plot_confusion_matrix(classifier, X_test, y_test)  \n",
    "plt.title(\"Random Forest confusion matrix\")\n",
    "plt.show()"
   ]
  },
  {
   "cell_type": "code",
   "execution_count": 71,
   "metadata": {},
   "outputs": [
    {
     "name": "stdout",
     "output_type": "stream",
     "text": [
      "Classification report Random Forest: \n",
      "               precision    recall  f1-score   support\n",
      "\n",
      "           1       0.99      1.00      1.00       113\n",
      "           0       1.00      0.99      1.00       129\n",
      "\n",
      "    accuracy                           1.00       242\n",
      "   macro avg       1.00      1.00      1.00       242\n",
      "weighted avg       1.00      1.00      1.00       242\n",
      "\n"
     ]
    }
   ],
   "source": [
    "# classification report for precision, recall f1-score and accuracy\n",
    "matrix = classification_report(y_train,y_pred_train,labels=[1,0])\n",
    "print('Classification report Random Forest: \\n',matrix)"
   ]
  },
  {
   "cell_type": "code",
   "execution_count": 6,
   "metadata": {},
   "outputs": [],
   "source": [
    "import pandas as pd\n",
    "import matplotlib.pyplot as plt"
   ]
  },
  {
   "cell_type": "code",
   "execution_count": 9,
   "metadata": {},
   "outputs": [],
   "source": [
    "def Support_fun(commonVal,firstIDX,secondIDX):\n",
    "    support = (len(commonVal)/(len(firstIDX)+len(secondIDX)))\n",
    "    return support \n",
    "\n",
    "def Confidence_fun(commonVal,firstIDX):\n",
    "    confidence = (len(commonVal)/len(firstIDX))\n",
    "    return confidence\n",
    "\n",
    "def Lift_fun(commonVal,firstIDX,secondIDX):\n",
    "    lift = ((len(commonVal)/(len(firstIDX))/(len(secondIDX)/100)))\n",
    "    return lift "
   ]
  },
  {
   "cell_type": "code",
   "execution_count": 10,
   "metadata": {},
   "outputs": [],
   "source": [
    "data_set = pd.read_csv('data.csv', header = None)\n",
    "\n",
    "# Add columns names\n",
    "data_set.columns = ['age', 'sex', 'cp', 'trestbps', 'chol',\n",
    "              'fbs', 'restecg', 'thalach', 'exang', \n",
    "              'oldpeak', 'slope', 'ca', 'thal', 'target']\n",
    "\n",
    "# ###  separate the data_set two varibles\n",
    "# target==1 class\n",
    "target_class_1 = data_set[(data_set['target']==1) | (data_set['target']==2)|(data_set['target']==3) | (data_set['target']==5)]\n"
   ]
  },
  {
   "cell_type": "code",
   "execution_count": 13,
   "metadata": {},
   "outputs": [],
   "source": [
    "# cp index values in target_calss_1 dataset\n",
    "cp = target_class_1[target_class_1['cp']!=3]\n",
    "cp = cp.iloc[:,:0]\n",
    "cp.reset_index(inplace=True)\n",
    "\n",
    "# cp index values in target_calss_1 dataset\n",
    "trestbps = target_class_1[target_class_1['trestbps']>120]\n",
    "trestbps = trestbps.iloc[:,:0]\n",
    "trestbps.reset_index(inplace = True)\n",
    "\n",
    "# chol index values in target_calss_1 dataset\n",
    "chol = target_class_1[target_class_1['chol']>200]\n",
    "chol = chol.iloc[:,:0]\n",
    "chol.reset_index(inplace = True)\n",
    "\n",
    "# fbs index values in target_calss_1 dataset\n",
    "fbs = target_class_1[target_class_1['fbs']==1]\n",
    "fbs = fbs.iloc[:,:0]\n",
    "fbs.reset_index(inplace = True)\n",
    "\n",
    "# thalach index values in target_calss_1 dataset\n",
    "thalach=target_class_1[target_class_1['thalach']>100]\n",
    "thalach=thalach.iloc[:,:0]\n",
    "thalach.reset_index(inplace=True)\n",
    "\n",
    "# restecg index values in target_calss_1 dataset\n",
    "restecg=target_class_1[target_class_1['restecg']!=0]\n",
    "restecg=restecg.iloc[:,:0]\n",
    "restecg.reset_index(inplace=True)\n",
    "\n",
    "# exang index values in target_calss_1 dataset\n",
    "exang = target_class_1[target_class_1['exang']==1]\n",
    "exang = exang.iloc[:,:0]\n",
    "exang.reset_index(inplace  =True)\n",
    "\n",
    "# ca index values in target_calss_1 dataset\n",
    "ca=target_class_1[target_class_1['ca']>0]\n",
    "ca=ca.iloc[:,:0]\n",
    "ca.reset_index(inplace=True)\n",
    "\n",
    "# thal index values in target_calss_1 dataset\n",
    "thal=target_class_1[target_class_1['thal']!=3]\n",
    "thal=thal.iloc[:,:0]\n",
    "thal.reset_index(inplace=True)"
   ]
  },
  {
   "cell_type": "code",
   "execution_count": 14,
   "metadata": {},
   "outputs": [],
   "source": [
    "#  3. common values in cp and other attributes\n",
    "cpValue1 = pd.merge(cp,trestbps)\n",
    "cpValue2 = pd.merge(cp,chol)\n",
    "cpValue3 = pd.merge(cp,fbs)\n",
    "cpValue4 = pd.merge(cp,restecg)\n",
    "cpValue5 = pd.merge(cp,thalach)\n",
    "cpValue6 = pd.merge(cp,exang)\n",
    "cpValue7 = pd.merge(cp,ca)\n",
    "cpValue8 = pd.merge(cp,thal)\n"
   ]
  },
  {
   "cell_type": "code",
   "execution_count": 15,
   "metadata": {},
   "outputs": [
    {
     "data": {
      "image/png": "[encoded data removed]",
      "text/plain": [
       "<Figure size 432x288 with 1 Axes>"
      ]
     },
     "metadata": {
      "needs_background": "light"
     },
     "output_type": "display_data"
    }
   ],
   "source": [
    "support1 = Support_fun(cpValue1,cp,trestbps)\n",
    "support2 = Support_fun(cpValue2,cp,chol)\n",
    "support3 = Support_fun(cpValue3,cp,fbs)\n",
    "support4 = Support_fun(cpValue4,cp,restecg)\n",
    "support5 = Support_fun(cpValue5,cp,thalach)\n",
    "support6 = Support_fun(cpValue6,cp,exang)\n",
    "support7 = Support_fun(cpValue7,cp,ca)\n",
    "support8 = Support_fun(cpValue7,cp,thal)\n",
    "\n",
    "support_cp = [support1, support2, support3, support4, support5, support6, support7, support8]\n",
    "#print(support_cp)\n",
    "\n",
    "c= ['red', 'green', 'blue', 'magenta', 'yellow', 'cyan', 'black', 'pink']\n",
    "x_axis = [\"trestbps\", \"chol\", 'fbs', 'restecg', 'thalach', 'exang', 'ca', 'thal']\n",
    "plt.bar(x_axis,support_cp, color=c)\n",
    "plt.title('Abnormal Association between cp and other parameters')\n",
    "plt.show()"
   ]
  },
  {
   "cell_type": "code",
   "execution_count": 16,
   "metadata": {},
   "outputs": [
    {
     "data": {
      "image/png": "[encoded data removed]",
      "text/plain": [
       "<Figure size 432x288 with 1 Axes>"
      ]
     },
     "metadata": {
      "needs_background": "light"
     },
     "output_type": "display_data"
    }
   ],
   "source": [
    "confidence1 = Confidence_fun(cpValue1,cp)\n",
    "confidence2 = Confidence_fun(cpValue2,cp)\n",
    "confidence3 = Confidence_fun(cpValue3,cp)\n",
    "confidence4 = Confidence_fun(cpValue4,cp)\n",
    "confidence5 = Confidence_fun(cpValue5,cp)\n",
    "confidence6 = Confidence_fun(cpValue6,cp)\n",
    "confidence7 = Confidence_fun(cpValue7,cp)\n",
    "confidence8 = Confidence_fun(cpValue8,cp)\n",
    "\n",
    "confidence_cp  = [confidence1, confidence2, confidence3, confidence4, confidence5, confidence6, confidence7, confidence8]\n",
    "#print(confidence_cp)\n",
    "\n",
    "plt.bar(x_axis,confidence_cp, color=c)\n",
    "plt.title('Abnormal Association between cp and other parameters')\n",
    "plt.show()"
   ]
  },
  {
   "cell_type": "code",
   "execution_count": 17,
   "metadata": {},
   "outputs": [],
   "source": [
    "# 4. common values in trestbps and other attributes\n",
    "trestbpsValue1 = pd.merge(trestbps,cp)\n",
    "trestbpsValue2 = pd.merge(trestbps,chol)\n",
    "trestbpsValue3 = pd.merge(trestbps,fbs)\n",
    "trestbpsValue4 = pd.merge(trestbps,restecg)\n",
    "trestbpsValue5 = pd.merge(trestbps,thalach)\n",
    "trestbpsValue6 = pd.merge(trestbps,exang)\n",
    "trestbpsValue7 = pd.merge(trestbps,ca)\n",
    "trestbpsValue8 = pd.merge(trestbps,thal)"
   ]
  },
  {
   "cell_type": "code",
   "execution_count": 18,
   "metadata": {},
   "outputs": [
    {
     "data": {
      "image/png": "[encoded data removed]",
      "text/plain": [
       "<Figure size 432x288 with 1 Axes>"
      ]
     },
     "metadata": {
      "needs_background": "light"
     },
     "output_type": "display_data"
    }
   ],
   "source": [
    "support1 = Support_fun(trestbpsValue1,trestbps,cp)\n",
    "support2 = Support_fun(trestbpsValue2,trestbps,chol)\n",
    "support3 = Support_fun(trestbpsValue3,trestbps,fbs)\n",
    "support4 = Support_fun(trestbpsValue4,trestbps,restecg)\n",
    "support5 = Support_fun(trestbpsValue5,trestbps,thalach)\n",
    "support6 = Support_fun(trestbpsValue6,trestbps,exang)\n",
    "support7 = Support_fun(trestbpsValue7,trestbps,ca)\n",
    "support8 = Support_fun(trestbpsValue7,trestbps,thal)\n",
    "\n",
    "support_trestbps = [support1, support2, support3, support4, support5, support6, support7, support8]\n",
    "#print(support_trestbps)\n",
    "x_axis = [\"cp\", \"chol\", 'fbs', 'restecg', 'thalach', 'exang', 'ca', 'thal']\n",
    "plt.bar(x_axis,support_trestbps, color=c)\n",
    "plt.title('Abnormal Association between trestbps and other parameters')\n",
    "plt.show()"
   ]
  },
  {
   "cell_type": "code",
   "execution_count": 19,
   "metadata": {},
   "outputs": [
    {
     "data": {
      "image/png": "[encoded data removed]",
      "text/plain": [
       "<Figure size 432x288 with 1 Axes>"
      ]
     },
     "metadata": {
      "needs_background": "light"
     },
     "output_type": "display_data"
    }
   ],
   "source": [
    "confidence1 = Confidence_fun(trestbpsValue1,trestbps)\n",
    "confidence2 = Confidence_fun(trestbpsValue2,trestbps)\n",
    "confidence3 = Confidence_fun(trestbpsValue3,trestbps)\n",
    "confidence4 = Confidence_fun(trestbpsValue4,trestbps)\n",
    "confidence5 = Confidence_fun(trestbpsValue5,trestbps)\n",
    "confidence6 = Confidence_fun(trestbpsValue6,trestbps)\n",
    "confidence7 = Confidence_fun(trestbpsValue7,trestbps)\n",
    "confidence8 = Confidence_fun(trestbpsValue8,trestbps)\n",
    "\n",
    "confidence_trestbps  = [confidence1, confidence2, confidence3, confidence4, confidence5, confidence6, confidence7, confidence8]\n",
    "#print(confidence_trestbps)\n",
    "plt.bar(x_axis,confidence_trestbps, color=c)\n",
    "plt.title('Abnormal Association between trestbps and other parameters')\n",
    "plt.show()"
   ]
  },
  {
   "cell_type": "code",
   "execution_count": 20,
   "metadata": {},
   "outputs": [],
   "source": [
    "# 5. common values in chol and other attributes\n",
    "cholValue1 = pd.merge(chol,cp)\n",
    "cholValue2 = pd.merge(chol,trestbps)\n",
    "cholValue3 = pd.merge(chol,fbs)\n",
    "cholValue4 = pd.merge(chol,restecg)\n",
    "cholValue5 = pd.merge(chol,thalach)\n",
    "cholValue6 = pd.merge(chol,exang)\n",
    "cholValue7 = pd.merge(chol,ca)\n",
    "cholValue8 = pd.merge(chol,thal)"
   ]
  },
  {
   "cell_type": "code",
   "execution_count": 21,
   "metadata": {},
   "outputs": [
    {
     "data": {
      "image/png": "[encoded data removed]",
      "text/plain": [
       "<Figure size 432x288 with 1 Axes>"
      ]
     },
     "metadata": {
      "needs_background": "light"
     },
     "output_type": "display_data"
    }
   ],
   "source": [
    "support1 = Support_fun(cholValue1,chol,cp)\n",
    "support2 = Support_fun(cholValue2,chol,trestbps)\n",
    "support3 = Support_fun(cholValue3,chol,fbs)\n",
    "support4 = Support_fun(cholValue4,chol,restecg)\n",
    "support5 = Support_fun(cholValue5,chol,thalach)\n",
    "support6 = Support_fun(cholValue6,chol,exang)\n",
    "support7 = Support_fun(cholValue7,chol,ca)\n",
    "support8 = Support_fun(cholValue7,chol,thal)\n",
    "\n",
    "support_chol = [support1, support2, support3, support4, support5, support6, support7, support8]\n",
    "#print(support_chol)\n",
    "x_axis = [\"cp\", \"trestbps\", 'fbs', 'restecg', 'thalach', 'exang', 'ca', 'thal']\n",
    "plt.bar(x_axis,support_trestbps, color=c)\n",
    "plt.title('Abnormal Association between chol and other parameters')\n",
    "plt.show()"
   ]
  },
  {
   "cell_type": "code",
   "execution_count": 22,
   "metadata": {},
   "outputs": [
    {
     "data": {
      "image/png": "[encoded data removed]",
      "text/plain": [
       "<Figure size 432x288 with 1 Axes>"
      ]
     },
     "metadata": {
      "needs_background": "light"
     },
     "output_type": "display_data"
    }
   ],
   "source": [
    "confidence1 = Confidence_fun(cholValue1,chol)\n",
    "confidence2 = Confidence_fun(cholValue2,chol)\n",
    "confidence3 = Confidence_fun(cholValue3,chol)\n",
    "confidence4 = Confidence_fun(cholValue4,chol)\n",
    "confidence5 = Confidence_fun(cholValue5,chol)\n",
    "confidence6 = Confidence_fun(cholValue6,chol)\n",
    "confidence7 = Confidence_fun(cholValue7,chol)\n",
    "confidence8 = Confidence_fun(cholValue8,chol)\n",
    "\n",
    "confidence_chol  = [confidence1, confidence2, confidence3, confidence4, confidence5, confidence6, confidence7, confidence8]\n",
    "#print(confidence_chol)\n",
    "plt.bar(x_axis,support_chol, color=c)\n",
    "plt.title('Abnormal Association between chol and other parameters')\n",
    "plt.show()"
   ]
  },
  {
   "cell_type": "code",
   "execution_count": 23,
   "metadata": {},
   "outputs": [],
   "source": [
    "# 6. common values in fbs and other attributes\n",
    "fbsValue1 = pd.merge(fbs,cp)\n",
    "fbsValue2 = pd.merge(fbs,trestbps)\n",
    "fbsValue3 = pd.merge(fbs,chol)\n",
    "fbsValue4 = pd.merge(fbs,restecg)\n",
    "fbsValue5 = pd.merge(fbs,thalach)\n",
    "fbsValue6 = pd.merge(fbs,exang)\n",
    "fbsValue7 = pd.merge(fbs,ca)\n",
    "fbsValue8 = pd.merge(fbs,thal)"
   ]
  },
  {
   "cell_type": "code",
   "execution_count": 24,
   "metadata": {},
   "outputs": [
    {
     "data": {
      "image/png": "[encoded data removed]",
      "text/plain": [
       "<Figure size 432x288 with 1 Axes>"
      ]
     },
     "metadata": {
      "needs_background": "light"
     },
     "output_type": "display_data"
    }
   ],
   "source": [
    "support1 = Support_fun(fbsValue1,fbs,cp)\n",
    "support2 = Support_fun(fbsValue2,fbs,trestbps)\n",
    "support3 = Support_fun(fbsValue3,fbs,chol)\n",
    "support4 = Support_fun(fbsValue4,fbs,restecg)\n",
    "support5 = Support_fun(fbsValue5,fbs,thalach)\n",
    "support6 = Support_fun(fbsValue6,fbs,exang)\n",
    "support7 = Support_fun(fbsValue7,fbs,ca)\n",
    "support8 = Support_fun(fbsValue7,fbs,thal)\n",
    "\n",
    "support_fbs = [support1, support2, support3, support4, support5, support6, support7, support8]\n",
    "#print(support_fbs)\n",
    "x_axis = [\"cp\", \"trestbps\", 'chol', 'restecg', 'thalach', 'exang', 'ca', 'thal']\n",
    "plt.bar(x_axis,support_fbs, color=c)\n",
    "plt.title('Abnormal Association between fbs and other parameters')\n",
    "plt.show()"
   ]
  },
  {
   "cell_type": "code",
   "execution_count": 25,
   "metadata": {},
   "outputs": [
    {
     "data": {
      "image/png": "[encoded data removed]",
      "text/plain": [
       "<Figure size 432x288 with 1 Axes>"
      ]
     },
     "metadata": {
      "needs_background": "light"
     },
     "output_type": "display_data"
    }
   ],
   "source": [
    "confidence1 = Confidence_fun(fbsValue1,fbs)\n",
    "confidence2 = Confidence_fun(fbsValue2,fbs)\n",
    "confidence3 = Confidence_fun(fbsValue3,fbs)\n",
    "confidence4 = Confidence_fun(fbsValue4,fbs)\n",
    "confidence5 = Confidence_fun(fbsValue5,fbs)\n",
    "confidence6 = Confidence_fun(fbsValue6,fbs)\n",
    "confidence7 = Confidence_fun(fbsValue7,fbs)\n",
    "confidence8 = Confidence_fun(fbsValue8,fbs)\n",
    "\n",
    "confidence_fbs  = [confidence1, confidence2, confidence3, confidence4, confidence5, confidence6, confidence7, confidence8]\n",
    "#print(confidence_fbs)\n",
    "plt.bar(x_axis,confidence_fbs, color=c)\n",
    "plt.title('Abnormal Association between fbs and other parameters')\n",
    "plt.show()"
   ]
  },
  {
   "cell_type": "code",
   "execution_count": 26,
   "metadata": {},
   "outputs": [],
   "source": [
    "# 7. common values in restecg and other attributes\n",
    "restecgValue1 = pd.merge(restecg,cp)\n",
    "restecgValue2 = pd.merge(restecg,trestbps)\n",
    "restecgValue3 = pd.merge(restecg,chol)\n",
    "restecgValue4 = pd.merge(restecg,fbs)\n",
    "restecgValue5 = pd.merge(restecg,thalach)\n",
    "restecgValue6 = pd.merge(restecg,exang)\n",
    "restecgValue7 = pd.merge(restecg,ca)\n",
    "restecgValue8 = pd.merge(restecg,thal)"
   ]
  },
  {
   "cell_type": "code",
   "execution_count": 27,
   "metadata": {},
   "outputs": [
    {
     "data": {
      "image/png": "[encoded data removed]",
      "text/plain": [
       "<Figure size 432x288 with 1 Axes>"
      ]
     },
     "metadata": {
      "needs_background": "light"
     },
     "output_type": "display_data"
    }
   ],
   "source": [
    "support1 = Support_fun(restecgValue1,restecg,cp)\n",
    "support2 = Support_fun(restecgValue2,restecg,trestbps)\n",
    "support3 = Support_fun(restecgValue3,restecg,chol)\n",
    "support4 = Support_fun(restecgValue4,restecg,fbs)\n",
    "support5 = Support_fun(restecgValue5,restecg,thalach)\n",
    "support6 = Support_fun(restecgValue6,restecg,exang)\n",
    "support7 = Support_fun(restecgValue7,restecg,ca)\n",
    "support8 = Support_fun(restecgValue7,restecg,thal)\n",
    "\n",
    "support_restecg = [support1, support2, support3, support4, support5, support6, support7, support8]\n",
    "#print(support_restecg)\n",
    "x_axis = [\"cp\", \"trestbps\", 'chol', 'fbs', 'thalach', 'exang', 'ca', 'thal']\n",
    "plt.bar(x_axis,support_restecg, color=c)\n",
    "plt.title('Abnormal Association between restecg and other parameters')\n",
    "plt.show()"
   ]
  },
  {
   "cell_type": "code",
   "execution_count": 28,
   "metadata": {},
   "outputs": [
    {
     "data": {
      "image/png": "[encoded data removed]",
      "text/plain": [
       "<Figure size 432x288 with 1 Axes>"
      ]
     },
     "metadata": {
      "needs_background": "light"
     },
     "output_type": "display_data"
    }
   ],
   "source": [
    "confidence1 = Confidence_fun(restecgValue1,restecg)\n",
    "confidence2 = Confidence_fun(restecgValue2,restecg)\n",
    "confidence3 = Confidence_fun(restecgValue3,restecg)\n",
    "confidence4 = Confidence_fun(restecgValue4,restecg)\n",
    "confidence5 = Confidence_fun(restecgValue5,restecg)\n",
    "confidence6 = Confidence_fun(restecgValue6,restecg)\n",
    "confidence7 = Confidence_fun(restecgValue7,restecg)\n",
    "confidence8 = Confidence_fun(restecgValue8,restecg)\n",
    "\n",
    "confidence_restecg  = [confidence1, confidence2, confidence3, confidence4, confidence5, confidence6, confidence7, confidence8]\n",
    "#print(confidence_restecg)\n",
    "plt.bar(x_axis,confidence_restecg, color=c)\n",
    "plt.title('Abnormal Association between restecg and other parameters')\n",
    "plt.show()"
   ]
  },
  {
   "cell_type": "code",
   "execution_count": 29,
   "metadata": {},
   "outputs": [],
   "source": [
    "# 8. common values in thalach and other attributes\n",
    "thalachValue1 = pd.merge(thalach,cp)\n",
    "thalachValue2 = pd.merge(thalach,trestbps)\n",
    "thalachValue3 = pd.merge(thalach,chol)\n",
    "thalachValue4 = pd.merge(thalach,fbs)\n",
    "thalachValue5 = pd.merge(thalach,restecg)\n",
    "thalachValue6 = pd.merge(thalach,exang)\n",
    "thalachValue7 = pd.merge(thalach,ca)\n",
    "thalachValue8 = pd.merge(thalach,thal)"
   ]
  },
  {
   "cell_type": "code",
   "execution_count": 30,
   "metadata": {},
   "outputs": [
    {
     "data": {
      "image/png": "[encoded data removed]",
      "text/plain": [
       "<Figure size 432x288 with 1 Axes>"
      ]
     },
     "metadata": {
      "needs_background": "light"
     },
     "output_type": "display_data"
    }
   ],
   "source": [
    "support1 = Support_fun(thalachValue1,thalach,cp)\n",
    "support2 = Support_fun(thalachValue2,thalach,trestbps)\n",
    "support3 = Support_fun(thalachValue3,thalach,chol)\n",
    "support4 = Support_fun(thalachValue4,thalach,fbs)\n",
    "support5 = Support_fun(thalachValue5,thalach,restecg)\n",
    "support6 = Support_fun(thalachValue6,thalach,exang)\n",
    "support7 = Support_fun(thalachValue7,thalach,ca)\n",
    "support8 = Support_fun(thalachValue7,thalach,thal)\n",
    "\n",
    "support_thalach = [support1, support2, support3, support4, support5, support6, support7, support8]\n",
    "#print(support_thalach)\n",
    "x_axis = [\"cp\", \"trestbps\", 'chol', 'fbs', 'restecg', 'exang', 'ca', 'thal']\n",
    "plt.bar(x_axis,support_thalach, color=c)\n",
    "plt.title('Abnormal Association between thalach and other parameters')\n",
    "plt.show()"
   ]
  },
  {
   "cell_type": "code",
   "execution_count": 31,
   "metadata": {},
   "outputs": [
    {
     "data": {
      "image/png": "[encoded data removed]",
      "text/plain": [
       "<Figure size 432x288 with 1 Axes>"
      ]
     },
     "metadata": {
      "needs_background": "light"
     },
     "output_type": "display_data"
    }
   ],
   "source": [
    "confidence1 = Confidence_fun(thalachValue1,thalach)\n",
    "confidence2 = Confidence_fun(thalachValue2,thalach)\n",
    "confidence3 = Confidence_fun(thalachValue3,thalach)\n",
    "confidence4 = Confidence_fun(thalachValue4,thalach)\n",
    "confidence5 = Confidence_fun(thalachValue5,thalach)\n",
    "confidence6 = Confidence_fun(thalachValue6,thalach)\n",
    "confidence7 = Confidence_fun(thalachValue7,thalach)\n",
    "confidence8 = Confidence_fun(thalachValue8,thalach)\n",
    "\n",
    "confidence_thalach  = [confidence1, confidence2, confidence3, confidence4, confidence5, confidence6, confidence7, confidence8]\n",
    "#print(confidence_thalach)\n",
    "plt.bar(x_axis,confidence_thalach, color=c)\n",
    "plt.title('Abnormal Association between thalach and other parameters')\n",
    "plt.show()"
   ]
  },
  {
   "cell_type": "code",
   "execution_count": 32,
   "metadata": {},
   "outputs": [],
   "source": [
    "# 9. common values in exang and other attributes\n",
    "exangValue1 = pd.merge(exang,cp)\n",
    "exangValue2 = pd.merge(exang,trestbps)\n",
    "exangValue3 = pd.merge(exang,chol)\n",
    "exangValue4 = pd.merge(exang,fbs)\n",
    "exangValue5 = pd.merge(exang,restecg)\n",
    "exangValue6 = pd.merge(exang,thalach)\n",
    "exangValue7 = pd.merge(exang,ca)\n",
    "exangValue8 = pd.merge(exang,thal)"
   ]
  },
  {
   "cell_type": "code",
   "execution_count": 33,
   "metadata": {},
   "outputs": [
    {
     "data": {
      "image/png": "[encoded data removed]",
      "text/plain": [
       "<Figure size 432x288 with 1 Axes>"
      ]
     },
     "metadata": {
      "needs_background": "light"
     },
     "output_type": "display_data"
    }
   ],
   "source": [
    "support1 = Support_fun(exangValue1,exang,cp)\n",
    "support2 = Support_fun(exangValue2,exang,trestbps)\n",
    "support3 = Support_fun(exangValue3,exang,chol)\n",
    "support4 = Support_fun(exangValue4,exang,fbs)\n",
    "support5 = Support_fun(exangValue5,exang,restecg)\n",
    "support6 = Support_fun(exangValue6,exang,thalach)\n",
    "support7 = Support_fun(exangValue7,exang,ca)\n",
    "support8 = Support_fun(exangValue7,exang,thal)\n",
    "\n",
    "support_exang = [support1, support2, support3, support4, support5, support6, support7, support8]\n",
    "#print(support_exang)\n",
    "x_axis = [\"cp\", \"trestbps\", 'chol', 'fbs', 'restecg', 'thalach', 'ca', 'thal']\n",
    "plt.bar(x_axis,support_exang, color=c)\n",
    "plt.title('Abnormal Association between exang and other parameters')\n",
    "plt.show()"
   ]
  },
  {
   "cell_type": "code",
   "execution_count": 34,
   "metadata": {},
   "outputs": [
    {
     "data": {
      "image/png": "[encoded data removed]",
      "text/plain": [
       "<Figure size 432x288 with 1 Axes>"
      ]
     },
     "metadata": {
      "needs_background": "light"
     },
     "output_type": "display_data"
    }
   ],
   "source": [
    "confidence1 = Confidence_fun(exangValue1,exang)\n",
    "confidence2 = Confidence_fun(exangValue2,exang)\n",
    "confidence3 = Confidence_fun(exangValue3,exang)\n",
    "confidence4 = Confidence_fun(exangValue4,exang)\n",
    "confidence5 = Confidence_fun(exangValue5,exang)\n",
    "confidence6 = Confidence_fun(exangValue6,exang)\n",
    "confidence7 = Confidence_fun(exangValue7,exang)\n",
    "confidence8 = Confidence_fun(exangValue8,exang)\n",
    "\n",
    "confidence_exang  = [confidence1, confidence2, confidence3, confidence4, confidence5, confidence6, confidence7, confidence8]\n",
    "#print(confidence_exang)\n",
    "plt.bar(x_axis,confidence_exang, color=c)\n",
    "plt.title('Abnormal Association between exang and other parameters')\n",
    "plt.show()"
   ]
  },
  {
   "cell_type": "code",
   "execution_count": 35,
   "metadata": {},
   "outputs": [],
   "source": [
    "# 12. common values in ca and other attributes\n",
    "caValue1 = pd.merge(ca,cp)\n",
    "caValue2 = pd.merge(ca,trestbps)\n",
    "caValue3 = pd.merge(ca,chol)\n",
    "caValue4 = pd.merge(ca,fbs)\n",
    "caValue5 = pd.merge(ca,restecg)\n",
    "caValue6 = pd.merge(ca,thalach)\n",
    "caValue7 = pd.merge(ca,exang)\n",
    "caValue8 = pd.merge(ca,thal)"
   ]
  },
  {
   "cell_type": "code",
   "execution_count": 36,
   "metadata": {},
   "outputs": [
    {
     "data": {
      "image/png": "[encoded data removed]",
      "text/plain": [
       "<Figure size 432x288 with 1 Axes>"
      ]
     },
     "metadata": {
      "needs_background": "light"
     },
     "output_type": "display_data"
    }
   ],
   "source": [
    "support1 = Support_fun(caValue1,ca,cp)\n",
    "support2 = Support_fun(caValue2,ca,trestbps)\n",
    "support3 = Support_fun(caValue3,ca,chol)\n",
    "support4 = Support_fun(caValue4,ca,fbs)\n",
    "support5 = Support_fun(caValue5,ca,restecg)\n",
    "support6 = Support_fun(caValue6,ca,thalach)\n",
    "support7 = Support_fun(caValue7,ca,exang)\n",
    "support8 = Support_fun(caValue7,ca,thal)\n",
    "\n",
    "support_ca = [support1, support2, support3, support4, support5, support6, support7, support8]\n",
    "#print(support_ca)\n",
    "x_axis = [\"cp\", \"trestbps\", 'chol', 'fbs', 'restecg', 'thalach', 'exang', 'thal']\n",
    "plt.bar(x_axis,support_ca, color=c)\n",
    "plt.title('Abnormal Association between ca and other parameters')\n",
    "plt.show()"
   ]
  },
  {
   "cell_type": "code",
   "execution_count": 37,
   "metadata": {},
   "outputs": [
    {
     "data": {
      "image/png": "[encoded data removed]",
      "text/plain": [
       "<Figure size 432x288 with 1 Axes>"
      ]
     },
     "metadata": {
      "needs_background": "light"
     },
     "output_type": "display_data"
    }
   ],
   "source": [
    "confidence1 = Confidence_fun(caValue1,ca)\n",
    "confidence2 = Confidence_fun(caValue2,ca)\n",
    "confidence3 = Confidence_fun(caValue3,ca)\n",
    "confidence4 = Confidence_fun(caValue4,ca)\n",
    "confidence5 = Confidence_fun(caValue5,ca)\n",
    "confidence6 = Confidence_fun(caValue6,ca)\n",
    "confidence7 = Confidence_fun(caValue7,ca)\n",
    "confidence8 = Confidence_fun(caValue8,ca)\n",
    "\n",
    "confidence_ca  = [confidence1, confidence2, confidence3, confidence4, confidence5, confidence6, confidence7, confidence8]\n",
    "#print(confidence_ca)\n",
    "plt.bar(x_axis,confidence_ca, color=c)\n",
    "plt.title('Abnormal Association between ca and other parameters')\n",
    "plt.show()"
   ]
  },
  {
   "cell_type": "code",
   "execution_count": 38,
   "metadata": {},
   "outputs": [],
   "source": [
    "# 13. common values in thal and other attributes\n",
    "thalValue1 = pd.merge(thal,cp)\n",
    "thalValue2 = pd.merge(thal,trestbps)\n",
    "thalValue3 = pd.merge(thal,chol)\n",
    "thalValue4 = pd.merge(thal,fbs)\n",
    "thalValue5 = pd.merge(thal,restecg)\n",
    "thalValue6 = pd.merge(thal,thalach)\n",
    "thalValue7 = pd.merge(thal,exang)\n",
    "thalValue8 = pd.merge(thal,ca)"
   ]
  },
  {
   "cell_type": "code",
   "execution_count": 39,
   "metadata": {},
   "outputs": [
    {
     "data": {
      "image/png": "[encoded data removed]",
      "text/plain": [
       "<Figure size 432x288 with 1 Axes>"
      ]
     },
     "metadata": {
      "needs_background": "light"
     },
     "output_type": "display_data"
    }
   ],
   "source": [
    "support1 = Support_fun(thalValue1,thal,cp)\n",
    "support2 = Support_fun(thalValue2,thal,trestbps)\n",
    "support3 = Support_fun(thalValue3,thal,chol)\n",
    "support4 = Support_fun(thalValue4,thal,fbs)\n",
    "support5 = Support_fun(thalValue5,thal,restecg)\n",
    "support6 = Support_fun(thalValue6,thal,thalach)\n",
    "support7 = Support_fun(thalValue7,thal,exang)\n",
    "support8 = Support_fun(thalValue7,thal,ca)\n",
    "\n",
    "support_thal = [support1, support2, support3, support4, support5, support6, support7, support8]\n",
    "#print(support_thal)\n",
    "x_axis = [\"cp\", \"trestbps\", 'chol', 'fbs', 'restecg', 'thalach', 'exang', 'ca']\n",
    "plt.bar(x_axis,support_thal, color=c)\n",
    "plt.title('Abnormal Association between thal and other parameters')\n",
    "plt.show()"
   ]
  },
  {
   "cell_type": "code",
   "execution_count": 40,
   "metadata": {},
   "outputs": [
    {
     "data": {
      "image/png": "[encoded data removed]",
      "text/plain": [
       "<Figure size 432x288 with 1 Axes>"
      ]
     },
     "metadata": {
      "needs_background": "light"
     },
     "output_type": "display_data"
    }
   ],
   "source": [
    "confidence1 = Confidence_fun(thalValue1,thal)\n",
    "confidence2 = Confidence_fun(thalValue2,thal)\n",
    "confidence3 = Confidence_fun(thalValue3,thal)\n",
    "confidence4 = Confidence_fun(thalValue4,thal)\n",
    "confidence5 = Confidence_fun(thalValue5,thal)\n",
    "confidence6 = Confidence_fun(thalValue6,thal)\n",
    "confidence7 = Confidence_fun(thalValue7,thal)\n",
    "confidence8 = Confidence_fun(thalValue8,thal)\n",
    "\n",
    "confidence_thal  = [confidence1, confidence2, confidence3, confidence4, confidence5, confidence6, confidence7, confidence8]\n",
    "#print(confidence_thal)\n",
    "plt.bar(x_axis,confidence_thal, color=c)\n",
    "plt.title('Abnormal Association between thal and other parameters')\n",
    "plt.show()"
   ]
  },
  {
   "cell_type": "code",
   "execution_count": null,
   "metadata": {},
   "outputs": [],
   "source": []
  }
 ],
 "metadata": {
  "kernelspec": {
   "display_name": "Python 3",
   "language": "python",
   "name": "python3"
  },
  "language_info": {
   "codemirror_mode": {
    "name": "ipython",
    "version": 3
   },
   "file_extension": ".py",
   "mimetype": "text/x-python",
   "name": "python",
   "nbconvert_exporter": "python",
   "pygments_lexer": "ipython3",
   "version": "3.8.8"
  }
 },
 "nbformat": 4,
 "nbformat_minor": 4
}
